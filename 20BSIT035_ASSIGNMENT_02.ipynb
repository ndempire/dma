{
 "cells": [
  {
   "cell_type": "code",
   "execution_count": 132,
   "id": "d0a6d719",
   "metadata": {},
   "outputs": [],
   "source": [
    "#reading csv file\n",
    "import pandas as pd\n",
    "na1 = [\"NA\",\"N/A\",\"Not Available\"]\n",
    "df = pd.read_csv(r\"C:\\NEEL DESAI\\CMPICA\\BSC-IT\\Semester_6\\DMA\\Assignments\\Assignment_01\\Automobile_data.csv\",na_values=na1)\n"
   ]
  },
  {
   "cell_type": "code",
   "execution_count": 133,
   "id": "7b454762",
   "metadata": {},
   "outputs": [
    {
     "data": {
      "text/plain": [
       "index               0\n",
       "company             0\n",
       "body-style          0\n",
       "wheel-base          0\n",
       "length              0\n",
       "engine-type         0\n",
       "num-of-cylinders    0\n",
       "horsepower          0\n",
       "average-mileage     0\n",
       "price               3\n",
       "dtype: int64"
      ]
     },
     "execution_count": 133,
     "metadata": {},
     "output_type": "execute_result"
    }
   ],
   "source": [
    "df.isnull().sum()\n",
    "#as there are NaN values present we have to replace them with techniques"
   ]
  },
  {
   "cell_type": "code",
   "execution_count": 8,
   "id": "70c03a7a",
   "metadata": {},
   "outputs": [
    {
     "name": "stdout",
     "output_type": "stream",
     "text": [
      "<class 'pandas.core.frame.DataFrame'>\n",
      "RangeIndex: 61 entries, 0 to 60\n",
      "Data columns (total 10 columns):\n",
      " #   Column            Non-Null Count  Dtype  \n",
      "---  ------            --------------  -----  \n",
      " 0   index             61 non-null     int64  \n",
      " 1   company           61 non-null     object \n",
      " 2   body-style        61 non-null     object \n",
      " 3   wheel-base        61 non-null     float64\n",
      " 4   length            61 non-null     float64\n",
      " 5   engine-type       60 non-null     object \n",
      " 6   num-of-cylinders  60 non-null     object \n",
      " 7   horsepower        60 non-null     float64\n",
      " 8   average-mileage   61 non-null     int64  \n",
      " 9   price             58 non-null     float64\n",
      "dtypes: float64(4), int64(2), object(4)\n",
      "memory usage: 4.9+ KB\n"
     ]
    }
   ],
   "source": [
    "#checking datatype of each column\n",
    "df.info()"
   ]
  },
  {
   "cell_type": "code",
   "execution_count": 134,
   "id": "f5123a67",
   "metadata": {},
   "outputs": [],
   "source": [
    "df['price'].fillna(df['price'].mean(),inplace=True) #applying mean as datatype is numeric we can also apply median or mode"
   ]
  },
  {
   "cell_type": "code",
   "execution_count": 72,
   "id": "78cc8201",
   "metadata": {},
   "outputs": [],
   "source": [
    "df['horsepower'].fillna(df['horsepower'].median(),inplace=True) "
   ]
  },
  {
   "cell_type": "code",
   "execution_count": 73,
   "id": "e837fa87",
   "metadata": {},
   "outputs": [],
   "source": [
    "df['engine-type']=df['engine-type'].fillna(df['engine-type']).mode()[0] #applying mode as datatype is object type"
   ]
  },
  {
   "cell_type": "code",
   "execution_count": 74,
   "id": "164c981a",
   "metadata": {},
   "outputs": [],
   "source": [
    "df['num-of-cylinders']=df['num-of-cylinders'].fillna(df['num-of-cylinders']).mode()[0]"
   ]
  },
  {
   "cell_type": "code",
   "execution_count": 124,
   "id": "0f52a94c",
   "metadata": {},
   "outputs": [
    {
     "data": {
      "text/plain": [
       "index               0\n",
       "company             0\n",
       "body-style          0\n",
       "wheel-base          0\n",
       "length              0\n",
       "engine-type         0\n",
       "num-of-cylinders    0\n",
       "horsepower          0\n",
       "average-mileage     0\n",
       "price               0\n",
       "dtype: int64"
      ]
     },
     "execution_count": 124,
     "metadata": {},
     "output_type": "execute_result"
    }
   ],
   "source": [
    "df.isnull().sum()"
   ]
  },
  {
   "cell_type": "code",
   "execution_count": 23,
   "id": "efa3e0d7",
   "metadata": {},
   "outputs": [
    {
     "name": "stdout",
     "output_type": "stream",
     "text": [
      "Min value: 5151.0\n",
      "Max value: 45400.0\n"
     ]
    }
   ],
   "source": [
    "#Que 1: Binning using Python (Normalization technique)\n",
    "#1.1 Implement Binning using cut and qcut methods.\n",
    "#For cut method: We need to find out min & max of particular column\n",
    "print(\"Min value:\",df['price'].min())\n",
    "print(\"Max value:\",df['price'].max())"
   ]
  },
  {
   "cell_type": "code",
   "execution_count": 25,
   "id": "3f542119",
   "metadata": {},
   "outputs": [],
   "source": [
    "#creating bins and giving lables\n",
    "bins = [5151,15000,30000,45000]\n",
    "labels = ['small','medium','Large']"
   ]
  },
  {
   "cell_type": "code",
   "execution_count": 34,
   "id": "9d9f89a3",
   "metadata": {},
   "outputs": [
    {
     "name": "stdout",
     "output_type": "stream",
     "text": [
      "0      small\n",
      "1     medium\n",
      "2     medium\n",
      "3      small\n",
      "4     medium\n",
      "5     medium\n",
      "6     medium\n",
      "7     medium\n",
      "8     medium\n",
      "9     medium\n",
      "10     Large\n",
      "11     Large\n",
      "12     Large\n",
      "13     small\n",
      "14     small\n",
      "15     small\n",
      "16     small\n",
      "17     small\n",
      "18     small\n",
      "19     small\n",
      "20     small\n",
      "21     small\n",
      "22    medium\n",
      "23    medium\n",
      "24     Large\n",
      "25     Large\n",
      "26     Large\n",
      "27     small\n",
      "28     small\n",
      "29     small\n",
      "30     small\n",
      "31    medium\n",
      "32    medium\n",
      "33    medium\n",
      "34     Large\n",
      "35       NaN\n",
      "36     small\n",
      "37     small\n",
      "38     small\n",
      "39     small\n",
      "40     small\n",
      "41     small\n",
      "42     small\n",
      "43     small\n",
      "44     small\n",
      "45     Large\n",
      "46     Large\n",
      "47    medium\n",
      "48     small\n",
      "49     small\n",
      "50     small\n",
      "51     small\n",
      "52     small\n",
      "53     small\n",
      "54    medium\n",
      "55     small\n",
      "56     small\n",
      "57     small\n",
      "58     small\n",
      "59     small\n",
      "Name: price_new_cut, dtype: category\n",
      "Categories (3, object): ['small' < 'medium' < 'Large'] 0     13495.0\n",
      "1     16500.0\n",
      "2     16500.0\n",
      "3     13950.0\n",
      "4     17450.0\n",
      "5     15250.0\n",
      "6     18920.0\n",
      "7     16430.0\n",
      "8     16925.0\n",
      "9     20970.0\n",
      "10    30760.0\n",
      "11    41315.0\n",
      "12    36880.0\n",
      "13     5151.0\n",
      "14     6295.0\n",
      "15     6575.0\n",
      "16     6377.0\n",
      "17     6229.0\n",
      "18     7295.0\n",
      "19    12945.0\n",
      "20    10345.0\n",
      "21     6785.0\n",
      "22    15387.0\n",
      "23    15387.0\n",
      "24    32250.0\n",
      "25    35550.0\n",
      "26    36000.0\n",
      "27     5195.0\n",
      "28     6095.0\n",
      "29     6795.0\n",
      "30    11845.0\n",
      "31    18344.0\n",
      "32    25552.0\n",
      "33    28248.0\n",
      "34    40960.0\n",
      "35    45400.0\n",
      "36     5389.0\n",
      "37     6189.0\n",
      "38     6989.0\n",
      "39     8189.0\n",
      "40     7099.0\n",
      "41     6649.0\n",
      "42     6849.0\n",
      "43     7349.0\n",
      "44    13499.0\n",
      "45    34028.0\n",
      "46    37028.0\n",
      "47    15387.0\n",
      "48     5348.0\n",
      "49     6338.0\n",
      "50     6488.0\n",
      "51     6918.0\n",
      "52     7898.0\n",
      "53     8778.0\n",
      "54    15750.0\n",
      "55     7775.0\n",
      "56     7975.0\n",
      "57     7995.0\n",
      "58     9995.0\n",
      "59    12940.0\n",
      "Name: price, dtype: float64\n"
     ]
    }
   ],
   "source": [
    "df['price_new_cut'] = pd.cut(df['price'], bins =bins, labels = labels, include_lowest=True)\n",
    "print(df['price_new_cut'].head(60),df['price'].head(60))"
   ]
  },
  {
   "cell_type": "code",
   "execution_count": 36,
   "id": "fa4175c6",
   "metadata": {},
   "outputs": [
    {
     "data": {
      "text/plain": [
       "small     36\n",
       "medium    15\n",
       "Large      9\n",
       "Name: price_new_cut, dtype: int64"
      ]
     },
     "execution_count": 36,
     "metadata": {},
     "output_type": "execute_result"
    }
   ],
   "source": [
    "#also counting the values how many are small, medium or large\n",
    "df['price_new_cut'].value_counts()"
   ]
  },
  {
   "cell_type": "code",
   "execution_count": 50,
   "id": "482c019d",
   "metadata": {},
   "outputs": [
    {
     "data": {
      "text/plain": [
       "(0           Large\n",
       " 1           Large\n",
       " 2           Large\n",
       " 3           Large\n",
       " 4           Large\n",
       " 5           Large\n",
       " 6     Extra large\n",
       " 7           Large\n",
       " 8           Large\n",
       " 9     Extra large\n",
       " 10    Extra large\n",
       " 11    Extra large\n",
       " 12    Extra large\n",
       " 13          small\n",
       " 14          small\n",
       " 15          small\n",
       " 16          small\n",
       " 17          small\n",
       " 18         medium\n",
       " 19          Large\n",
       " 20         medium\n",
       " 21          small\n",
       " 22          Large\n",
       " 23          Large\n",
       " 24    Extra large\n",
       " 25    Extra large\n",
       " 26    Extra large\n",
       " 27          small\n",
       " 28          small\n",
       " 29          small\n",
       " 30         medium\n",
       " 31    Extra large\n",
       " 32    Extra large\n",
       " 33    Extra large\n",
       " 34    Extra large\n",
       " 35    Extra large\n",
       " 36          small\n",
       " 37          small\n",
       " 38         medium\n",
       " 39         medium\n",
       " 40         medium\n",
       " 41          small\n",
       " 42          small\n",
       " 43         medium\n",
       " 44          Large\n",
       " 45    Extra large\n",
       " 46    Extra large\n",
       " 47          Large\n",
       " 48          small\n",
       " 49          small\n",
       " 50          small\n",
       " 51         medium\n",
       " 52         medium\n",
       " 53         medium\n",
       " 54          Large\n",
       " 55         medium\n",
       " 56         medium\n",
       " 57         medium\n",
       " 58         medium\n",
       " 59         medium\n",
       " Name: price_new_qcut, dtype: category\n",
       " Categories (4, object): ['small' < 'medium' < 'Large' < 'Extra large'],\n",
       " 0     13495.0\n",
       " 1     16500.0\n",
       " 2     16500.0\n",
       " 3     13950.0\n",
       " 4     17450.0\n",
       " 5     15250.0\n",
       " 6     18920.0\n",
       " 7     16430.0\n",
       " 8     16925.0\n",
       " 9     20970.0\n",
       " 10    30760.0\n",
       " 11    41315.0\n",
       " 12    36880.0\n",
       " 13     5151.0\n",
       " 14     6295.0\n",
       " 15     6575.0\n",
       " 16     6377.0\n",
       " 17     6229.0\n",
       " 18     7295.0\n",
       " 19    12945.0\n",
       " 20    10345.0\n",
       " 21     6785.0\n",
       " 22    15387.0\n",
       " 23    15387.0\n",
       " 24    32250.0\n",
       " 25    35550.0\n",
       " 26    36000.0\n",
       " 27     5195.0\n",
       " 28     6095.0\n",
       " 29     6795.0\n",
       " 30    11845.0\n",
       " 31    18344.0\n",
       " 32    25552.0\n",
       " 33    28248.0\n",
       " 34    40960.0\n",
       " 35    45400.0\n",
       " 36     5389.0\n",
       " 37     6189.0\n",
       " 38     6989.0\n",
       " 39     8189.0\n",
       " 40     7099.0\n",
       " 41     6649.0\n",
       " 42     6849.0\n",
       " 43     7349.0\n",
       " 44    13499.0\n",
       " 45    34028.0\n",
       " 46    37028.0\n",
       " 47    15387.0\n",
       " 48     5348.0\n",
       " 49     6338.0\n",
       " 50     6488.0\n",
       " 51     6918.0\n",
       " 52     7898.0\n",
       " 53     8778.0\n",
       " 54    15750.0\n",
       " 55     7775.0\n",
       " 56     7975.0\n",
       " 57     7995.0\n",
       " 58     9995.0\n",
       " 59    12940.0\n",
       " Name: price, dtype: float64)"
      ]
     },
     "execution_count": 50,
     "metadata": {},
     "output_type": "execute_result"
    }
   ],
   "source": [
    "#applying qcut\n",
    "labels = ['small','medium','Large','Extra large'] #total name of lables are equal to value of q\n",
    "df['price_new_qcut'] = pd.qcut(df['price'], q=4,labels=labels)\n",
    "df['price_new_qcut'].head(60),df['price'].head(60)"
   ]
  },
  {
   "cell_type": "code",
   "execution_count": 52,
   "id": "e84ff7c4",
   "metadata": {},
   "outputs": [
    {
     "data": {
      "text/plain": [
       "0      8206.555556\n",
       "1     18200.000000\n",
       "2     18200.000000\n",
       "3      8206.555556\n",
       "4     18200.000000\n",
       "          ...     \n",
       "56     8206.555556\n",
       "57     8206.555556\n",
       "58     8206.555556\n",
       "59     8206.555556\n",
       "60     8206.555556\n",
       "Name: price, Length: 61, dtype: float64"
      ]
     },
     "execution_count": 52,
     "metadata": {},
     "output_type": "execute_result"
    }
   ],
   "source": [
    "#1.2 Also, transform the bins values\n",
    "df.groupby('price_new_cut')['price'].transform('mean') #bymean alson can apply median and mode"
   ]
  },
  {
   "cell_type": "code",
   "execution_count": 54,
   "id": "d19978f9",
   "metadata": {},
   "outputs": [
    {
     "data": {
      "text/plain": [
       "0     15387.0\n",
       "1     15387.0\n",
       "2     15387.0\n",
       "3     15387.0\n",
       "4     15387.0\n",
       "       ...   \n",
       "56     7975.0\n",
       "57     7975.0\n",
       "58     7975.0\n",
       "59     7975.0\n",
       "60    15387.0\n",
       "Name: price, Length: 61, dtype: float64"
      ]
     },
     "execution_count": 54,
     "metadata": {},
     "output_type": "execute_result"
    }
   ],
   "source": [
    "df.groupby('price_new_qcut')['price'].transform('median') #by median value of qcut"
   ]
  },
  {
   "cell_type": "code",
   "execution_count": 66,
   "id": "de7cdb60",
   "metadata": {},
   "outputs": [
    {
     "data": {
      "text/plain": [
       "array([[<AxesSubplot:title={'center':'price'}>]], dtype=object)"
      ]
     },
     "execution_count": 66,
     "metadata": {},
     "output_type": "execute_result"
    },
    {
     "data": {
      "image/png": "[encoded data removed]",
      "text/plain": [
       "<Figure size 640x480 with 1 Axes>"
      ]
     },
     "metadata": {},
     "output_type": "display_data"
    }
   ],
   "source": [
    "#2. Outlier detection and removal\n",
    "#Using visualization method\n",
    "\n",
    "#Histogram\n",
    "df.hist(column='price', bins=7)  #histogram is available in basic pandas package\n",
    "#we need to pass only one feature name and total bins we required and histogram will be created"
   ]
  },
  {
   "cell_type": "code",
   "execution_count": 85,
   "id": "d3111d88",
   "metadata": {},
   "outputs": [
    {
     "data": {
      "text/plain": [
       "array([[<AxesSubplot:title={'center':'index'}>,\n",
       "        <AxesSubplot:title={'center':'wheel-base'}>],\n",
       "       [<AxesSubplot:title={'center':'length'}>,\n",
       "        <AxesSubplot:title={'center':'horsepower'}>],\n",
       "       [<AxesSubplot:title={'center':'average-mileage'}>,\n",
       "        <AxesSubplot:title={'center':'price'}>]], dtype=object)"
      ]
     },
     "execution_count": 85,
     "metadata": {},
     "output_type": "execute_result"
    },
    {
     "data": {
      "image/png": "[encoded data removed]",
      "text/plain": [
       "<Figure size 640x480 with 6 Axes>"
      ]
     },
     "metadata": {},
     "output_type": "display_data"
    }
   ],
   "source": [
    "df.hist() #here only 5 charts are created as the datatype of "
   ]
  },
  {
   "cell_type": "code",
   "execution_count": 86,
   "id": "f4223c4e",
   "metadata": {},
   "outputs": [
    {
     "data": {
      "text/plain": [
       "<AxesSubplot:xlabel='price'>"
      ]
     },
     "execution_count": 86,
     "metadata": {},
     "output_type": "execute_result"
    },
    {
     "data": {
      "image/png": "[encoded data removed]",
      "text/plain": [
       "<Figure size 640x480 with 1 Axes>"
      ]
     },
     "metadata": {},
     "output_type": "display_data"
    }
   ],
   "source": [
    "#importing seaborn package for plotting boxplot\n",
    "import seaborn as sns \n",
    "sns.boxplot(x=df['price']) "
   ]
  },
  {
   "cell_type": "code",
   "execution_count": 95,
   "id": "e991a8e7",
   "metadata": {},
   "outputs": [
    {
     "data": {
      "image/png": "[encoded data removed]",
      "text/plain": [
       "<Figure size 1000x1000 with 1 Axes>"
      ]
     },
     "metadata": {},
     "output_type": "display_data"
    }
   ],
   "source": [
    "# Scatter plot\n",
    "#importing matplotlib.pyplot package for plotting boxplot\n",
    "import matplotlib.pyplot as plt\n",
    "fig, ax = plt.subplots(figsize = (10,10))\n",
    "ax.scatter(df['price'], df['horsepower'])\n",
    " \n",
    "# x-axis label\n",
    "ax.set_xlabel('Price')\n",
    " \n",
    "# y-axis label\n",
    "ax.set_ylabel('HorsePower')\n",
    "plt.show()"
   ]
  },
  {
   "cell_type": "code",
   "execution_count": 111,
   "id": "dfc303e7",
   "metadata": {},
   "outputs": [],
   "source": [
    "#Statistical method\n",
    "\n",
    "# Z score\n",
    "from scipy import stats\n",
    "import numpy as np\n",
    "\n",
    "df['hp_z_scores'] = stats.zscore(df['horsepower'], nan_policy='omit')"
   ]
  },
  {
   "cell_type": "code",
   "execution_count": 114,
   "id": "fc8c64d3",
   "metadata": {},
   "outputs": [
    {
     "name": "stdout",
     "output_type": "stream",
     "text": [
      "(array([26, 47], dtype=int64),)\n"
     ]
    }
   ],
   "source": [
    "#printing the position of outlier\n",
    "print(np.where(df['hp_z_scores'] > 2))"
   ]
  },
  {
   "cell_type": "code",
   "execution_count": 136,
   "id": "44f7fdf5",
   "metadata": {},
   "outputs": [
    {
     "name": "stdout",
     "output_type": "stream",
     "text": [
      "index                 43.0\n",
      "wheel-base             6.7\n",
      "length                18.2\n",
      "horsepower            55.0\n",
      "average-mileage       12.0\n",
      "price              10601.0\n",
      "dtype: float64\n"
     ]
    }
   ],
   "source": [
    "#InterQuantileRange (IQR)\n",
    "Q1 = df.quantile(0.25)\n",
    "Q3 = df.quantile(0.75)\n",
    "IQR = Q3 - Q1\n",
    "print(IQR) #PRINTING IQR VALUES"
   ]
  },
  {
   "cell_type": "code",
   "execution_count": 137,
   "id": "085d4379",
   "metadata": {},
   "outputs": [
    {
     "name": "stdout",
     "output_type": "stream",
     "text": [
      "index                125.50\n",
      "wheel-base           111.25\n",
      "length               204.60\n",
      "horsepower           205.50\n",
      "average-mileage       49.00\n",
      "price              33351.50\n",
      "dtype: float64\n",
      "index               -46.50\n",
      "wheel-base           84.45\n",
      "length              131.80\n",
      "horsepower          -14.50\n",
      "average-mileage       1.00\n",
      "price             -9052.50\n",
      "dtype: float64\n"
     ]
    }
   ],
   "source": [
    "#FINDING upper and lower values for entire dataset\n",
    "upper = Q3 + 1.5*IQR\n",
    "lower = Q1 - 1.5*IQR\n",
    "print(upper)\n",
    "print(lower)"
   ]
  },
  {
   "cell_type": "code",
   "execution_count": 138,
   "id": "f89ae393",
   "metadata": {},
   "outputs": [
    {
     "name": "stdout",
     "output_type": "stream",
     "text": [
      "205.5\n",
      "-14.5\n"
     ]
    }
   ],
   "source": [
    "#Finding range for specific column\n",
    "Q1 = df['horsepower'].quantile(0.25)\n",
    "Q3 = df['horsepower'].quantile(0.75)\n",
    "IQR = Q3 - Q1\n",
    "upper = Q3 + 1.5*IQR\n",
    "lower = Q1 - 1.5*IQR\n",
    "print(upper) #if value greater than the range outlier\n",
    "print(lower) #if value less than the range outlier"
   ]
  },
  {
   "cell_type": "code",
   "execution_count": 142,
   "id": "7ad39ab6",
   "metadata": {},
   "outputs": [
    {
     "name": "stdout",
     "output_type": "stream",
     "text": [
      "47    288\n",
      "Name: horsepower, dtype: int64\n"
     ]
    }
   ],
   "source": [
    "#printing outlier\n",
    "outliers = df['horsepower'][((df['horsepower']<(Q1-1.5*IQR)) | (df['horsepower']>(Q3+1.5*IQR)))]\n",
    "print(outliers)"
   ]
  },
  {
   "cell_type": "code",
   "execution_count": 141,
   "id": "0ff58c46",
   "metadata": {},
   "outputs": [
    {
     "name": "stdout",
     "output_type": "stream",
     "text": [
      "47    288\n",
      "Name: horsepower, dtype: int64\n"
     ]
    }
   ],
   "source": [
    "#2.3 Treating outliers\n",
    "#Method 1: By replacing values with any other value which don't violate\n",
    "df['horsepower'].replace([262,207],[100,125],inplace=True)\n",
    "outliers = df['horsepower'][((df['horsepower']<(Q1-1.5*IQR)) | (df['horsepower']>(Q3+1.5*IQR)))]\n",
    "print(outliers)"
   ]
  },
  {
   "cell_type": "code",
   "execution_count": 143,
   "id": "72f8e6ec",
   "metadata": {},
   "outputs": [
    {
     "name": "stdout",
     "output_type": "stream",
     "text": [
      "New Shape:  (60, 10)\n"
     ]
    }
   ],
   "source": [
    "#Method 2: drop the row that contains the outlier by passing index\n",
    "df.drop(index=47, inplace = True)\n",
    "print(\"New Shape: \", df.shape)"
   ]
  },
  {
   "cell_type": "code",
   "execution_count": 144,
   "id": "ef396cbb",
   "metadata": {},
   "outputs": [
    {
     "name": "stdout",
     "output_type": "stream",
     "text": [
      "Series([], Name: horsepower, dtype: int64)\n"
     ]
    }
   ],
   "source": [
    "#printing outlier\n",
    "outliers = df['horsepower'][((df['horsepower']<(Q1-1.5*IQR)) | (df['horsepower']>(Q3+1.5*IQR)))]\n",
    "print(outliers)"
   ]
  }
 ],
 "metadata": {
  "kernelspec": {
   "display_name": "Python 3 (ipykernel)",
   "language": "python",
   "name": "python3"
  },
  "language_info": {
   "codemirror_mode": {
    "name": "ipython",
    "version": 3
   },
   "file_extension": ".py",
   "mimetype": "text/x-python",
   "name": "python",
   "nbconvert_exporter": "python",
   "pygments_lexer": "ipython3",
   "version": "3.9.13"
  }
 },
 "nbformat": 4,
 "nbformat_minor": 5
}
