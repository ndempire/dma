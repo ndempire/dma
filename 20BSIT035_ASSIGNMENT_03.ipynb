{
 "cells": [
  {
   "cell_type": "code",
   "execution_count": 54,
   "id": "3512e9bc",
   "metadata": {},
   "outputs": [
    {
     "name": "stdout",
     "output_type": "stream",
     "text": [
      "      Area  Perimeter  Compactness  Kernel.Length  Kernel.Width  \\\n",
      "0    15.26      14.84       0.8710          5.763         3.312   \n",
      "1    14.88      14.57       0.8811          5.554         3.333   \n",
      "2    14.29      14.09       0.9050          5.291         3.337   \n",
      "3    13.84      13.94       0.8955          5.324         3.379   \n",
      "4    16.14      14.99       0.9034          5.658         3.562   \n",
      "..     ...        ...          ...            ...           ...   \n",
      "194  12.19      13.20       0.8783          5.137         2.981   \n",
      "195  11.23      12.88       0.8511          5.140         2.795   \n",
      "196  13.20      13.66       0.8883          5.236         3.232   \n",
      "197  11.84      13.21       0.8521          5.175         2.836   \n",
      "198  12.30      13.34       0.8684          5.243         2.974   \n",
      "\n",
      "     Asymmetry.Coeff  Kernel.Groove  Type  \n",
      "0              2.221          5.220     1  \n",
      "1              1.018          4.956     1  \n",
      "2              2.699          4.825     1  \n",
      "3              2.259          4.805     1  \n",
      "4              1.355          5.175     1  \n",
      "..               ...            ...   ...  \n",
      "194            3.631          4.870     3  \n",
      "195            4.325          5.003     3  \n",
      "196            8.315          5.056     3  \n",
      "197            3.598          5.044     3  \n",
      "198            5.637          5.063     3  \n",
      "\n",
      "[199 rows x 8 columns]\n"
     ]
    }
   ],
   "source": [
    "#Question 1: Read CSV File\n",
    "\n",
    "#Importing pandas library for reading csv file\n",
    "\n",
    "import pandas as pd\n",
    "df = pd.read_csv(r\"C:\\NEEL DESAI\\CMPICA\\BSC-IT\\Semester_6\\DMA\\Assignments\\Assignment_03\\seeds.csv\")\n",
    "print(df) #printing dataframe"
   ]
  },
  {
   "cell_type": "code",
   "execution_count": 11,
   "id": "1c3398ee",
   "metadata": {},
   "outputs": [
    {
     "name": "stdout",
     "output_type": "stream",
     "text": [
      "<class 'pandas.core.frame.DataFrame'>\n",
      "RangeIndex: 199 entries, 0 to 198\n",
      "Data columns (total 8 columns):\n",
      " #   Column           Non-Null Count  Dtype  \n",
      "---  ------           --------------  -----  \n",
      " 0   Area             199 non-null    float64\n",
      " 1   Perimeter        199 non-null    float64\n",
      " 2   Compactness      199 non-null    float64\n",
      " 3   Kernel.Length    199 non-null    float64\n",
      " 4   Kernel.Width     199 non-null    float64\n",
      " 5   Asymmetry.Coeff  199 non-null    float64\n",
      " 6   Kernel.Groove    199 non-null    float64\n",
      " 7   Type             199 non-null    int64  \n",
      "dtypes: float64(7), int64(1)\n",
      "memory usage: 12.6 KB\n"
     ]
    }
   ],
   "source": [
    "#Question 2: Preprocessing\n",
    "\n",
    "#4.\tPrint datatype of all the columns of dataset\n",
    "df.info()"
   ]
  },
  {
   "cell_type": "code",
   "execution_count": 13,
   "id": "580b8031",
   "metadata": {},
   "outputs": [
    {
     "data": {
      "text/html": [
       "<div>\n",
       "<style scoped>\n",
       "    .dataframe tbody tr th:only-of-type {\n",
       "        vertical-align: middle;\n",
       "    }\n",
       "\n",
       "    .dataframe tbody tr th {\n",
       "        vertical-align: top;\n",
       "    }\n",
       "\n",
       "    .dataframe thead th {\n",
       "        text-align: right;\n",
       "    }\n",
       "</style>\n",
       "<table border=\"1\" class=\"dataframe\">\n",
       "  <thead>\n",
       "    <tr style=\"text-align: right;\">\n",
       "      <th></th>\n",
       "      <th>Area</th>\n",
       "      <th>Perimeter</th>\n",
       "      <th>Compactness</th>\n",
       "      <th>Kernel.Length</th>\n",
       "      <th>Kernel.Width</th>\n",
       "      <th>Asymmetry.Coeff</th>\n",
       "      <th>Kernel.Groove</th>\n",
       "      <th>Type</th>\n",
       "    </tr>\n",
       "  </thead>\n",
       "  <tbody>\n",
       "    <tr>\n",
       "      <th>count</th>\n",
       "      <td>199.000000</td>\n",
       "      <td>199.000000</td>\n",
       "      <td>199.000000</td>\n",
       "      <td>199.000000</td>\n",
       "      <td>199.000000</td>\n",
       "      <td>199.000000</td>\n",
       "      <td>199.000000</td>\n",
       "      <td>199.000000</td>\n",
       "    </tr>\n",
       "    <tr>\n",
       "      <th>mean</th>\n",
       "      <td>14.918744</td>\n",
       "      <td>14.595829</td>\n",
       "      <td>0.870811</td>\n",
       "      <td>5.643151</td>\n",
       "      <td>3.265533</td>\n",
       "      <td>3.699217</td>\n",
       "      <td>5.420653</td>\n",
       "      <td>1.994975</td>\n",
       "    </tr>\n",
       "    <tr>\n",
       "      <th>std</th>\n",
       "      <td>2.919976</td>\n",
       "      <td>1.310445</td>\n",
       "      <td>0.023320</td>\n",
       "      <td>0.443593</td>\n",
       "      <td>0.378322</td>\n",
       "      <td>1.471102</td>\n",
       "      <td>0.492718</td>\n",
       "      <td>0.813382</td>\n",
       "    </tr>\n",
       "    <tr>\n",
       "      <th>min</th>\n",
       "      <td>10.590000</td>\n",
       "      <td>12.410000</td>\n",
       "      <td>0.808100</td>\n",
       "      <td>4.899000</td>\n",
       "      <td>2.630000</td>\n",
       "      <td>0.765100</td>\n",
       "      <td>4.519000</td>\n",
       "      <td>1.000000</td>\n",
       "    </tr>\n",
       "    <tr>\n",
       "      <th>25%</th>\n",
       "      <td>12.330000</td>\n",
       "      <td>13.470000</td>\n",
       "      <td>0.857100</td>\n",
       "      <td>5.267000</td>\n",
       "      <td>2.954500</td>\n",
       "      <td>2.570000</td>\n",
       "      <td>5.046000</td>\n",
       "      <td>1.000000</td>\n",
       "    </tr>\n",
       "    <tr>\n",
       "      <th>50%</th>\n",
       "      <td>14.430000</td>\n",
       "      <td>14.370000</td>\n",
       "      <td>0.873400</td>\n",
       "      <td>5.541000</td>\n",
       "      <td>3.245000</td>\n",
       "      <td>3.631000</td>\n",
       "      <td>5.228000</td>\n",
       "      <td>2.000000</td>\n",
       "    </tr>\n",
       "    <tr>\n",
       "      <th>75%</th>\n",
       "      <td>17.455000</td>\n",
       "      <td>15.805000</td>\n",
       "      <td>0.886800</td>\n",
       "      <td>6.002000</td>\n",
       "      <td>3.564500</td>\n",
       "      <td>4.799000</td>\n",
       "      <td>5.879000</td>\n",
       "      <td>3.000000</td>\n",
       "    </tr>\n",
       "    <tr>\n",
       "      <th>max</th>\n",
       "      <td>21.180000</td>\n",
       "      <td>17.250000</td>\n",
       "      <td>0.918300</td>\n",
       "      <td>6.675000</td>\n",
       "      <td>4.033000</td>\n",
       "      <td>8.315000</td>\n",
       "      <td>6.550000</td>\n",
       "      <td>3.000000</td>\n",
       "    </tr>\n",
       "  </tbody>\n",
       "</table>\n",
       "</div>"
      ],
      "text/plain": [
       "             Area   Perimeter  Compactness  Kernel.Length  Kernel.Width  \\\n",
       "count  199.000000  199.000000   199.000000     199.000000    199.000000   \n",
       "mean    14.918744   14.595829     0.870811       5.643151      3.265533   \n",
       "std      2.919976    1.310445     0.023320       0.443593      0.378322   \n",
       "min     10.590000   12.410000     0.808100       4.899000      2.630000   \n",
       "25%     12.330000   13.470000     0.857100       5.267000      2.954500   \n",
       "50%     14.430000   14.370000     0.873400       5.541000      3.245000   \n",
       "75%     17.455000   15.805000     0.886800       6.002000      3.564500   \n",
       "max     21.180000   17.250000     0.918300       6.675000      4.033000   \n",
       "\n",
       "       Asymmetry.Coeff  Kernel.Groove        Type  \n",
       "count       199.000000     199.000000  199.000000  \n",
       "mean          3.699217       5.420653    1.994975  \n",
       "std           1.471102       0.492718    0.813382  \n",
       "min           0.765100       4.519000    1.000000  \n",
       "25%           2.570000       5.046000    1.000000  \n",
       "50%           3.631000       5.228000    2.000000  \n",
       "75%           4.799000       5.879000    3.000000  \n",
       "max           8.315000       6.550000    3.000000  "
      ]
     },
     "execution_count": 13,
     "metadata": {},
     "output_type": "execute_result"
    }
   ],
   "source": [
    "#getting statistucal summary of dataset\n",
    "df.describe()"
   ]
  },
  {
   "cell_type": "code",
   "execution_count": 15,
   "id": "6a147424",
   "metadata": {},
   "outputs": [
    {
     "name": "stdout",
     "output_type": "stream",
     "text": [
      "Area unique count = 186\n",
      "[15.26 14.88 14.29 13.84 16.14 14.38 14.69 16.63 16.44 14.03 13.89 13.78\n",
      " 13.74 14.59 13.99 15.69 14.7  12.72 14.16 14.11 15.88 12.08 15.01 16.19\n",
      " 13.02 12.74 13.45 13.16 15.49 14.09 13.94 15.05 16.2  17.08 14.8  14.28\n",
      " 13.54 13.5  15.5  15.11 13.8  15.36 14.99 14.79 14.86 14.43 15.78 14.49\n",
      " 14.33 14.52 15.03 14.46 14.92 15.38 12.11 11.23 12.36 13.22 12.78 12.88\n",
      " 14.34 14.01 12.73 17.63 16.84 17.26 19.11 16.82 16.77 17.32 20.71 18.94\n",
      " 17.12 16.53 18.72 20.2  19.57 19.51 18.27 18.88 18.98 21.18 20.88 20.1\n",
      " 18.76 18.81 18.59 18.36 16.87 19.31 18.17 16.41 17.99 19.46 19.18 18.95\n",
      " 18.83 19.94 18.55 18.45 19.38 19.13 19.14 20.97 19.06 18.96 19.15 18.89\n",
      " 20.03 20.24 18.14 16.17 18.43 15.99 18.75 18.65 17.98 20.16 17.55 18.3\n",
      " 16.16 15.56 17.36 15.57 15.6  16.23 13.07 13.32 13.34 12.22 11.82 11.21\n",
      " 11.43 12.49 12.7  10.79 11.83 12.01 12.26 11.18 11.36 11.19 11.34 12.13\n",
      " 11.75 11.49 12.54 12.02 12.05 12.55 11.14 12.1  12.44 12.15 11.35 11.55\n",
      " 11.4  10.83 10.8  11.26 10.74 11.48 12.21 11.41 12.46 12.19 11.65 12.89\n",
      " 11.56 11.81 10.91 10.59 10.93 11.27 11.87 10.82 12.8  12.79 13.37 12.62\n",
      " 12.76 12.38 12.37 13.2  11.84 12.3 ]\n",
      "\n",
      "Perimeter unique count = 163\n",
      "[14.84 14.57 14.09 13.94 14.99 14.21 14.49 15.46 15.25 14.85 14.16 14.02\n",
      " 14.06 14.05 14.28 13.83 14.75 13.57 14.4  14.26 14.9  13.23 14.76 15.16\n",
      " 13.76 13.67 14.18 13.82 14.94 14.41 14.17 14.68 15.27 15.38 14.52 13.85\n",
      " 13.55 14.86 14.54 14.04 14.56 14.67 14.91 14.61 14.6  14.77 14.35 14.43\n",
      " 13.47 12.63 13.19 13.84 13.5  14.37 14.29 13.75 15.98 15.67 15.73 16.26\n",
      " 15.51 15.62 15.91 17.23 16.49 15.55 15.34 16.19 16.89 16.74 16.71 16.09\n",
      " 16.66 17.21 17.05 16.99 16.2  16.29 16.05 16.52 15.65 16.59 16.57 16.34\n",
      " 15.86 16.5  16.63 16.42 16.92 16.22 16.12 16.72 16.31 16.61 17.25 16.45\n",
      " 16.23 16.9  16.91 15.97 14.89 16.18 16.41 15.85 17.03 15.66 15.89 16.32\n",
      " 15.33 15.76 15.15 15.11 15.18 13.92 13.95 13.32 13.4  13.13 13.46 13.71\n",
      " 12.93 13.52 13.6  13.04 13.05 12.87 13.73 13.22 13.33 13.41 12.79 13.15\n",
      " 13.59 13.45 13.12 13.1  13.08 12.96 12.57 13.01 12.73 12.95 13.36 13.07\n",
      " 13.77 13.31 12.8  12.82 12.41 12.86 13.02 12.83 13.27 13.53 13.78 13.38\n",
      " 13.44 12.72 13.2  12.88 13.66 13.21 13.34]\n",
      "\n",
      "Compactness unique count = 177\n",
      "[0.871  0.8811 0.905  0.8955 0.9034 0.8951 0.8799 0.8747 0.888  0.8696\n",
      " 0.8796 0.8759 0.8744 0.8993 0.9183 0.9058 0.9153 0.8686 0.8584 0.8722\n",
      " 0.8988 0.8664 0.8657 0.8849 0.8641 0.8564 0.882  0.8604 0.8662 0.8724\n",
      " 0.8529 0.8728 0.8779 0.8734 0.9079 0.8823 0.8944 0.8871 0.8852 0.9009\n",
      " 0.8986 0.8794 0.8861 0.8883 0.8819 0.8676 0.8751 0.8923 0.8538 0.8831\n",
      " 0.8557 0.8658 0.8818 0.9006 0.8857 0.8392 0.884  0.868  0.8716 0.8879\n",
      " 0.8726 0.8625 0.8458 0.8673 0.8623 0.8763 0.9081 0.8786 0.8638 0.8599\n",
      " 0.875  0.8892 0.8977 0.8894 0.878  0.887  0.8969 0.859  0.8989 0.9031\n",
      " 0.8746 0.8984 0.8906 0.9066 0.8452 0.8648 0.8815 0.8687 0.8637 0.881\n",
      " 0.8866 0.8992 0.8985 0.8717 0.8829 0.8917 0.88   0.8752 0.8865 0.8921\n",
      " 0.9035 0.8859 0.8854 0.9077 0.889  0.9008 0.8897 0.8772 0.8588 0.9064\n",
      " 0.8999 0.8698 0.8735 0.8991 0.9108 0.8942 0.8706 0.8644 0.8785 0.8527\n",
      " 0.858  0.885  0.848  0.8613 0.862  0.8652 0.8274 0.8167 0.8335 0.8491\n",
      " 0.8107 0.8496 0.8249 0.8333 0.8266 0.8382 0.8253 0.8596 0.8081 0.8082\n",
      " 0.8263 0.8425 0.8503 0.8416 0.8558 0.8793 0.8462 0.8443 0.8291 0.8455\n",
      " 0.8375 0.8099 0.8355 0.8329 0.8473 0.8453 0.856  0.8579 0.8575 0.8541\n",
      " 0.8198 0.8372 0.8594 0.839  0.8563 0.8795 0.8256 0.8639 0.886  0.8481\n",
      " 0.8964 0.8609 0.8567 0.8783 0.8511 0.8521 0.8684]\n",
      "\n",
      "Kernel.Length unique count = 179\n",
      "[5.763 5.554 5.291 5.324 5.658 5.386 5.563 6.053 5.884 5.714 5.438 5.439\n",
      " 5.479 5.482 5.351 5.119 5.527 5.205 5.226 5.52  5.618 5.099 5.789 5.833\n",
      " 5.395 5.541 5.516 5.454 5.757 5.717 5.585 5.712 5.826 5.832 5.656 5.397\n",
      " 5.348 5.138 5.877 5.579 5.376 5.701 5.57  5.545 5.678 5.674 5.715 5.504\n",
      " 5.741 5.702 5.388 5.384 5.662 5.159 4.902 5.076 5.262 5.139 5.63  5.609\n",
      " 5.412 6.191 5.998 5.978 6.154 6.017 5.927 6.064 6.579 6.445 5.85  5.875\n",
      " 6.006 6.285 6.384 6.366 6.173 6.084 6.549 6.573 6.45  6.581 6.172 6.272\n",
      " 6.037 6.666 6.139 6.341 6.449 6.271 6.219 5.718 5.89  6.113 6.369 6.248\n",
      " 6.033 6.675 6.153 6.107 6.303 6.183 6.259 6.563 6.416 6.051 6.245 6.227\n",
      " 6.493 6.315 6.059 5.762 5.98  5.363 6.111 5.979 6.513 5.791 6.144 5.845\n",
      " 5.776 6.145 5.92  5.872 5.472 5.389 5.224 5.314 5.279 5.176 5.267 5.317\n",
      " 5.263 5.405 5.408 5.22  5.175 5.25  5.053 5.394 5.444 5.304 5.451 5.35\n",
      " 5.333 5.011 5.105 5.319 5.417 5.167 5.136 5.278 4.981 5.186 5.145 5.18\n",
      " 5.357 5.09  5.236 5.24  5.108 5.495 5.413 5.088 5.089 4.899 5.046 5.091\n",
      " 5.132 5.16  5.32  5.41  5.073 5.219 5.009 5.204 5.137 5.14  5.243]\n",
      "\n",
      "Kernel.Width unique count = 177\n",
      "[3.312 3.333 3.337 3.379 3.562 3.259 3.465 3.505 3.242 3.201 3.199 3.156\n",
      " 3.114 3.383 3.514 3.466 3.049 3.129 3.168 3.507 2.936 3.245 3.421 3.026\n",
      " 2.956 3.221 3.065 2.975 3.371 3.186 3.15  3.328 3.464 3.683 3.288 3.298\n",
      " 3.158 3.396 3.462 3.155 3.393 3.377 3.291 3.258 3.272 3.434 3.113 3.212\n",
      " 3.412 3.419 3.032 2.879 3.042 3.07  3.119 3.19  2.882 3.561 3.484 3.594\n",
      " 3.93  3.486 3.438 3.403 3.814 3.639 3.566 3.467 3.857 3.864 3.772 3.801\n",
      " 3.651 3.764 3.67  4.033 4.032 3.785 3.796 3.693 3.86  3.485 3.463 3.81\n",
      " 3.552 3.512 3.684 3.525 3.694 3.892 3.681 3.755 3.786 3.573 3.763 3.674\n",
      " 3.769 3.791 3.902 3.737 3.991 3.719 3.897 3.815 3.962 3.563 3.387 3.771\n",
      " 3.582 3.869 3.687 3.773 3.69  3.825 3.268 3.395 3.408 3.574 3.231 3.286\n",
      " 3.472 2.994 3.073 3.074 2.967 2.777 2.687 2.719 2.911 2.648 2.84  2.776\n",
      " 2.833 2.693 2.755 2.675 2.849 2.745 2.678 2.695 2.81  2.847 2.968 2.794\n",
      " 2.941 2.897 2.837 2.668 2.845 2.763 2.641 2.821 2.71  2.642 2.758 2.893\n",
      " 2.775 3.017 2.909 2.85  2.683 2.716 2.787 2.717 2.804 2.953 2.63  3.126\n",
      " 3.054 3.128 2.989 2.96  2.981 2.795 3.232 2.836 2.974]\n",
      "\n",
      "Asymmetry.Coeff unique count = 197\n",
      "[2.221  1.018  2.699  2.259  1.355  2.462  3.586  2.04   1.969  4.543\n",
      " 1.717  3.986  3.136  2.932  4.185  5.234  1.599  1.767  4.102  3.072\n",
      " 2.688  0.7651 1.415  1.791  0.903  3.373  2.504  2.754  3.531  0.8551\n",
      " 3.412  3.92   2.124  2.129  2.823  2.956  3.112  6.685  2.587  2.249\n",
      " 2.461  4.711  3.128  1.56   1.367  2.958  2.704  3.975  5.593  4.116\n",
      " 3.328  1.481  1.933  2.802  1.142  1.999  1.502  2.269  3.22   4.157\n",
      " 1.176  2.352  1.313  2.217  3.533  4.076  4.675  4.539  2.936  4.004\n",
      " 4.92   3.824  4.451  5.064  2.858  5.532  5.324  5.173  1.472  2.962\n",
      " 2.443  1.649  3.691  5.78   5.016  1.955  3.12   3.237  6.001  4.933\n",
      " 3.696  3.477  2.144  2.853  2.188  4.217  2.068  4.308  3.357  3.368\n",
      " 2.553  3.747  3.252  1.738  2.235  3.678  2.109  6.682  4.677  2.248\n",
      " 4.334  3.084  3.639  3.063  5.901  3.619  4.286  2.984  3.336  4.188\n",
      " 4.391  2.257  1.91   5.366  2.837  2.908  4.462  4.266  4.972  3.526\n",
      " 2.64   2.725  3.769  5.304  7.035  5.995  5.469  4.471  6.169  4.421\n",
      " 3.26   5.462  5.195  6.992  4.756  3.332  4.048  5.813  3.347  4.825\n",
      " 4.378  5.388  3.082  4.271  4.988  4.419  6.388  2.201  4.924  3.638\n",
      " 4.337  6.715  5.588  5.182  4.773  5.335  4.702  5.876  1.661  4.957\n",
      " 4.987  4.857  5.209  6.185  4.062  4.898  4.179  7.524  4.975  5.398\n",
      " 3.985  3.597  4.853  4.132  4.873  5.483  4.67   3.306  2.828  5.472\n",
      " 4.051  3.919  3.631  4.325  8.315  3.598  5.637 ]\n",
      "\n",
      "Kernel.Groove unique count = 142\n",
      "[5.22  4.956 4.825 4.805 5.175 5.219 5.877 5.533 5.314 5.001 4.738 4.872\n",
      " 4.781 5.046 4.649 4.914 5.176 5.091 4.961 5.307 4.869 5.038 5.097 5.056\n",
      " 5.228 5.299 5.012 5.36  5.527 5.484 5.309 5.178 4.783 5.528 5.18  5.132\n",
      " 5.111 5.351 5.144 5.136 5.396 5.224 5.487 5.439 5.044 5.088 5.222 4.519\n",
      " 4.703 4.605 4.782 4.607 5.15  5.067 6.06  5.791 6.079 5.841 5.795 5.922\n",
      " 6.451 6.362 5.746 5.88  5.879 6.187 6.273 6.185 6.197 6.109 6.498 6.231\n",
      " 6.321 6.449 6.053 6.448 5.967 6.238 6.453 6.097 5.618 5.837 6.009 6.229\n",
      " 6.148 5.929 6.55  5.894 5.794 5.965 5.924 6.316 6.163 5.75  5.966 6.32\n",
      " 6.188 6.011 5.703 5.905 5.992 6.102 5.919 5.661 5.962 5.949 5.847 5.971\n",
      " 5.752 5.395 5.44  5.221 5.275 5.002 5.316 5.194 5.27  5.263 5.003 5.31\n",
      " 5.491 5.308 5.049 5.338 5.089 5.185 5.063 5.092 4.963 5.147 5.158 5.135\n",
      " 5.182 5.352 4.957 4.794 5.045 4.958 5.231 4.83  4.828 4.87 ]\n",
      "\n",
      "Type unique count = 3\n",
      "[1 2 3]\n",
      "\n"
     ]
    }
   ],
   "source": [
    "#checking unique and nunique cols for dataset\n",
    "for col in df:\n",
    "  print(col + \" unique count = \" + str(df[col].nunique()))\n",
    "  print(df[col].unique(),end=\"\\n\\n\")"
   ]
  },
  {
   "cell_type": "code",
   "execution_count": 19,
   "id": "52e1a2ea",
   "metadata": {},
   "outputs": [
    {
     "data": {
      "text/plain": [
       "Area               0\n",
       "Perimeter          0\n",
       "Compactness        0\n",
       "Kernel.Length      0\n",
       "Kernel.Width       0\n",
       "Asymmetry.Coeff    0\n",
       "Kernel.Groove      0\n",
       "Type               0\n",
       "dtype: int64"
      ]
     },
     "execution_count": 19,
     "metadata": {},
     "output_type": "execute_result"
    }
   ],
   "source": [
    "#Displaying the count of tuples with status of missing values\n",
    "na1 = [\"NA\",\"N/A\",\"Not Available\"]\n",
    "df = pd.read_csv(r\"C:\\NEEL DESAI\\CMPICA\\BSC-IT\\Semester_6\\DMA\\Assignments\\Assignment_03\\seeds.csv\",na_values=na1)\n",
    "df.isnull().sum()\n",
    "\n",
    "#as there are not any missing values values we don't need to handle missing values"
   ]
  },
  {
   "cell_type": "code",
   "execution_count": 55,
   "id": "5a7ac498",
   "metadata": {},
   "outputs": [
    {
     "name": "stdout",
     "output_type": "stream",
     "text": [
      "      Area  Perimeter  Compactness  Kernel.Length  Kernel.Width  \\\n",
      "0    15.26      14.84       0.8710          5.763         3.312   \n",
      "1    14.88      14.57       0.8811          5.554         3.333   \n",
      "2    14.29      14.09       0.9050          5.291         3.337   \n",
      "3    13.84      13.94       0.8955          5.324         3.379   \n",
      "4    16.14      14.99       0.9034          5.658         3.562   \n",
      "..     ...        ...          ...            ...           ...   \n",
      "194  12.19      13.20       0.8783          5.137         2.981   \n",
      "195  11.23      12.88       0.8511          5.140         2.795   \n",
      "196  13.20      13.66       0.8883          5.236         3.232   \n",
      "197  11.84      13.21       0.8521          5.175         2.836   \n",
      "198  12.30      13.34       0.8684          5.243         2.974   \n",
      "\n",
      "     Asymmetry.Coeff  Kernel.Groove  Type_1  Type_2  Type_3  \n",
      "0              2.221          5.220       1       0       0  \n",
      "1              1.018          4.956       1       0       0  \n",
      "2              2.699          4.825       1       0       0  \n",
      "3              2.259          4.805       1       0       0  \n",
      "4              1.355          5.175       1       0       0  \n",
      "..               ...            ...     ...     ...     ...  \n",
      "194            3.631          4.870       0       0       1  \n",
      "195            4.325          5.003       0       0       1  \n",
      "196            8.315          5.056       0       0       1  \n",
      "197            3.598          5.044       0       0       1  \n",
      "198            5.637          5.063       0       0       1  \n",
      "\n",
      "[199 rows x 10 columns]\n"
     ]
    }
   ],
   "source": [
    "#Question 3: Perform one-hot encoding and normalization.\n",
    "\n",
    "#Appling one hot encoding to categorical column and storing that in new df\n",
    "#applying getdummies function present in basic pandas library\n",
    "newdf = pd.get_dummies(df, columns = ['Type'])\n",
    "print(newdf)"
   ]
  },
  {
   "cell_type": "code",
   "execution_count": 56,
   "id": "9a9c09b8",
   "metadata": {},
   "outputs": [
    {
     "data": {
      "text/plain": [
       "array([[0.66209382, 0.64387105, 0.03779055, ..., 0.04338754, 0.        ,\n",
       "        0.        ],\n",
       "       [0.66344682, 0.64962501, 0.03928515, ..., 0.04458648, 0.        ,\n",
       "        0.        ],\n",
       "       [0.6561907 , 0.64700678, 0.04155721, ..., 0.04591957, 0.        ,\n",
       "        0.        ],\n",
       "       ...,\n",
       "       [0.59318291, 0.61385444, 0.03991851, ..., 0.        , 0.        ,\n",
       "        0.0449381 ],\n",
       "       [0.59982874, 0.6692346 , 0.04316842, ..., 0.        , 0.        ,\n",
       "        0.05066121],\n",
       "       [0.59681799, 0.64728065, 0.04213632, ..., 0.        , 0.        ,\n",
       "        0.04852179]])"
      ]
     },
     "execution_count": 56,
     "metadata": {},
     "output_type": "execute_result"
    }
   ],
   "source": [
    "#importing preprocessing from sklearn\n",
    "from sklearn import preprocessing \n",
    "\n",
    "#Appling normalization on the newdf and storing that in nordf\n",
    "nordf = preprocessing.normalize(newdf)\n",
    "nordf"
   ]
  },
  {
   "cell_type": "code",
   "execution_count": 37,
   "id": "d67d37d1",
   "metadata": {},
   "outputs": [
    {
     "name": "stdout",
     "output_type": "stream",
     "text": [
      "<class 'pandas.core.frame.DataFrame'>\n",
      "RangeIndex: 199 entries, 0 to 198\n",
      "Data columns (total 8 columns):\n",
      " #   Column           Non-Null Count  Dtype  \n",
      "---  ------           --------------  -----  \n",
      " 0   Area             199 non-null    float64\n",
      " 1   Perimeter        199 non-null    float64\n",
      " 2   Compactness      199 non-null    float64\n",
      " 3   Kernel.Length    199 non-null    float64\n",
      " 4   Kernel.Width     199 non-null    float64\n",
      " 5   Asymmetry.Coeff  199 non-null    float64\n",
      " 6   Kernel.Groove    199 non-null    float64\n",
      " 7   Type             199 non-null    int64  \n",
      "dtypes: float64(7), int64(1)\n",
      "memory usage: 12.6 KB\n",
      "[[15.26   14.84    0.871   5.763   3.312   2.221 ]\n",
      " [14.88   14.57    0.8811  5.554   3.333   1.018 ]\n",
      " [14.29   14.09    0.905   5.291   3.337   2.699 ]\n",
      " ...\n",
      " [13.2    13.66    0.8883  5.236   3.232   8.315 ]\n",
      " [11.84   13.21    0.8521  5.175   2.836   3.598 ]\n",
      " [12.3    13.34    0.8684  5.243   2.974   5.637 ]]\n",
      "[1. 1. 1. 1. 1. 1. 1. 1. 1. 1. 1. 1. 1. 1. 1. 1. 1. 1. 1. 1. 1. 1. 1. 1.\n",
      " 1. 1. 1. 1. 1. 1. 1. 1. 1. 1. 1. 1. 1. 1. 1. 1. 1. 1. 1. 1. 1. 1. 1. 1.\n",
      " 1. 1. 1. 1. 1. 1. 1. 1. 1. 1. 1. 1. 1. 1. 1. 1. 1. 1. 2. 2. 2. 2. 2. 2.\n",
      " 2. 2. 2. 2. 2. 2. 2. 2. 2. 2. 2. 2. 2. 2. 2. 2. 2. 2. 2. 2. 2. 2. 2. 2.\n",
      " 2. 2. 2. 2. 2. 2. 2. 2. 2. 2. 2. 2. 2. 2. 2. 2. 2. 2. 2. 2. 2. 2. 2. 2.\n",
      " 2. 2. 2. 2. 2. 2. 2. 2. 2. 2. 2. 2. 2. 2. 3. 3. 3. 3. 3. 3. 3. 3. 3. 3.\n",
      " 3. 3. 3. 3. 3. 3. 3. 3. 3. 3. 3. 3. 3. 3. 3. 3. 3. 3. 3. 3. 3. 3. 3. 3.\n",
      " 3. 3. 3. 3. 3. 3. 3. 3. 3. 3. 3. 3. 3. 3. 3. 3. 3. 3. 3. 3. 3. 3. 3. 3.\n",
      " 3. 3. 3. 3. 3. 3. 3.]\n"
     ]
    }
   ],
   "source": [
    "#Question 4: applying decision tree algorithm\n",
    "\n",
    "\n",
    "df.info()\n",
    "X = df.values[:, 0:6]\n",
    "Y = df.values[:,7]\n",
    "print(X)\n",
    "print(Y)"
   ]
  },
  {
   "cell_type": "code",
   "execution_count": 38,
   "id": "ae971d28",
   "metadata": {},
   "outputs": [],
   "source": [
    "#IMPORTING TRAIN_TEST_SPLIT FROM sklearn\n",
    "from sklearn.model_selection import train_test_split\n",
    "X_train, X_test, y_train, y_test = train_test_split( X, Y, test_size = 0.3, random_state = 100)"
   ]
  },
  {
   "cell_type": "code",
   "execution_count": 29,
   "id": "6c37ba85",
   "metadata": {},
   "outputs": [
    {
     "data": {
      "text/plain": [
       "DecisionTreeClassifier(max_depth=3, min_samples_leaf=5, random_state=100)"
      ]
     },
     "execution_count": 29,
     "metadata": {},
     "output_type": "execute_result"
    }
   ],
   "source": [
    "#IMPORTING decision tree classifier FROM sklearn\n",
    "from sklearn.tree import DecisionTreeClassifier\n",
    "#applying both gini and entropy method for checking accuracy\n",
    "clf_gini = DecisionTreeClassifier(criterion = \"gini\", random_state = 100,\n",
    "                               max_depth=3, min_samples_leaf=5)\n",
    "clf_gini.fit(X_train, y_train)"
   ]
  },
  {
   "cell_type": "code",
   "execution_count": 30,
   "id": "f9e0f079",
   "metadata": {},
   "outputs": [
    {
     "data": {
      "text/plain": [
       "array([2., 2., 2., 2., 2., 3., 2., 1., 1., 2., 3., 1., 3., 3., 2., 3., 3.,\n",
       "       3., 3., 1., 1., 2., 1., 2., 2., 1., 3., 2., 3., 2., 2., 3., 3., 3.,\n",
       "       3., 2., 1., 3., 3., 2., 3., 2., 3., 3., 2., 1., 1., 1., 1., 3., 1.,\n",
       "       3., 2., 1., 3., 1., 3., 3., 3., 3.])"
      ]
     },
     "execution_count": 30,
     "metadata": {},
     "output_type": "execute_result"
    }
   ],
   "source": [
    "y_pred = clf_gini.predict(X_test)\n",
    "y_pred"
   ]
  },
  {
   "cell_type": "code",
   "execution_count": 32,
   "id": "af930bcd",
   "metadata": {},
   "outputs": [
    {
     "name": "stdout",
     "output_type": "stream",
     "text": [
      "Accuracy is  86.66666666666667\n"
     ]
    }
   ],
   "source": [
    "#IMPORTING accuracy score FROM sklearn\n",
    "from sklearn.metrics import accuracy_score\n",
    "print(\"Accuracy is \", accuracy_score(y_test,y_pred)*100)"
   ]
  },
  {
   "cell_type": "code",
   "execution_count": 33,
   "id": "785d6aff",
   "metadata": {},
   "outputs": [
    {
     "name": "stdout",
     "output_type": "stream",
     "text": [
      "[[11  2  2]\n",
      " [ 4 17  0]\n",
      " [ 0  0 24]]\n"
     ]
    }
   ],
   "source": [
    "#importing confusion matrix from sklear\n",
    "from sklearn.metrics import confusion_matrix\n",
    "print(confusion_matrix(y_test, y_pred))"
   ]
  },
  {
   "cell_type": "code",
   "execution_count": 34,
   "id": "9cfff53e",
   "metadata": {},
   "outputs": [
    {
     "name": "stdout",
     "output_type": "stream",
     "text": [
      "              precision    recall  f1-score   support\n",
      "\n",
      "         1.0       0.73      0.73      0.73        15\n",
      "         2.0       0.89      0.81      0.85        21\n",
      "         3.0       0.92      1.00      0.96        24\n",
      "\n",
      "    accuracy                           0.87        60\n",
      "   macro avg       0.85      0.85      0.85        60\n",
      "weighted avg       0.87      0.87      0.86        60\n",
      "\n"
     ]
    }
   ],
   "source": [
    "#importing classification report from sklearn\n",
    "from sklearn.metrics import classification_report\n",
    "print(classification_report(y_test, y_pred))"
   ]
  },
  {
   "cell_type": "code",
   "execution_count": 39,
   "id": "12c0040f",
   "metadata": {},
   "outputs": [
    {
     "data": {
      "text/plain": [
       "DecisionTreeClassifier(criterion='entropy', max_depth=3, min_samples_leaf=5,\n",
       "                       random_state=100)"
      ]
     },
     "execution_count": 39,
     "metadata": {},
     "output_type": "execute_result"
    }
   ],
   "source": [
    "clf_entropy = DecisionTreeClassifier(criterion = \"entropy\", random_state = 100,\n",
    " max_depth=3, min_samples_leaf=5)\n",
    "clf_entropy.fit(X_train, y_train)"
   ]
  },
  {
   "cell_type": "code",
   "execution_count": 40,
   "id": "960f3f14",
   "metadata": {},
   "outputs": [
    {
     "data": {
      "text/plain": [
       "array([2., 2., 2., 2., 2., 3., 2., 2., 1., 2., 3., 2., 3., 3., 2., 3., 3.,\n",
       "       3., 3., 1., 1., 2., 1., 1., 1., 2., 3., 2., 3., 2., 2., 3., 3., 3.,\n",
       "       3., 2., 1., 3., 3., 2., 3., 2., 3., 3., 2., 1., 1., 1., 3., 3., 3.,\n",
       "       3., 2., 1., 3., 1., 3., 3., 3., 3.])"
      ]
     },
     "execution_count": 40,
     "metadata": {},
     "output_type": "execute_result"
    }
   ],
   "source": [
    "y_pred = clf_entropy.predict(X_test)\n",
    "y_pred"
   ]
  },
  {
   "cell_type": "code",
   "execution_count": 41,
   "id": "fcd515af",
   "metadata": {},
   "outputs": [
    {
     "name": "stdout",
     "output_type": "stream",
     "text": [
      "Accuracy is  88.33333333333333\n"
     ]
    }
   ],
   "source": [
    "print(\"Accuracy is \", accuracy_score(y_test,y_pred)*100)"
   ]
  },
  {
   "cell_type": "code",
   "execution_count": 42,
   "id": "0f367451",
   "metadata": {},
   "outputs": [
    {
     "name": "stdout",
     "output_type": "stream",
     "text": [
      "[[10  1  4]\n",
      " [ 2 19  0]\n",
      " [ 0  0 24]]\n"
     ]
    }
   ],
   "source": [
    "print(confusion_matrix(y_test, y_pred))"
   ]
  },
  {
   "cell_type": "code",
   "execution_count": 45,
   "id": "e7c10a7e",
   "metadata": {},
   "outputs": [
    {
     "name": "stdout",
     "output_type": "stream",
     "text": [
      "              precision    recall  f1-score   support\n",
      "\n",
      "         1.0       0.83      0.67      0.74        15\n",
      "         2.0       0.95      0.90      0.93        21\n",
      "         3.0       0.86      1.00      0.92        24\n",
      "\n",
      "    accuracy                           0.88        60\n",
      "   macro avg       0.88      0.86      0.86        60\n",
      "weighted avg       0.88      0.88      0.88        60\n",
      "\n"
     ]
    }
   ],
   "source": [
    "print(classification_report(y_test, y_pred))"
   ]
  },
  {
   "cell_type": "code",
   "execution_count": 47,
   "id": "3ed48a04",
   "metadata": {},
   "outputs": [
    {
     "name": "stdout",
     "output_type": "stream",
     "text": [
      "<class 'pandas.core.frame.DataFrame'>\n",
      "RangeIndex: 199 entries, 0 to 198\n",
      "Data columns (total 8 columns):\n",
      " #   Column           Non-Null Count  Dtype  \n",
      "---  ------           --------------  -----  \n",
      " 0   Area             199 non-null    float64\n",
      " 1   Perimeter        199 non-null    float64\n",
      " 2   Compactness      199 non-null    float64\n",
      " 3   Kernel.Length    199 non-null    float64\n",
      " 4   Kernel.Width     199 non-null    float64\n",
      " 5   Asymmetry.Coeff  199 non-null    float64\n",
      " 6   Kernel.Groove    199 non-null    float64\n",
      " 7   Type             199 non-null    int64  \n",
      "dtypes: float64(7), int64(1)\n",
      "memory usage: 12.6 KB\n",
      "[[15.26   14.84    0.871   5.763   3.312   2.221 ]\n",
      " [14.88   14.57    0.8811  5.554   3.333   1.018 ]\n",
      " [14.29   14.09    0.905   5.291   3.337   2.699 ]\n",
      " ...\n",
      " [13.2    13.66    0.8883  5.236   3.232   8.315 ]\n",
      " [11.84   13.21    0.8521  5.175   2.836   3.598 ]\n",
      " [12.3    13.34    0.8684  5.243   2.974   5.637 ]]\n",
      "[1. 1. 1. 1. 1. 1. 1. 1. 1. 1. 1. 1. 1. 1. 1. 1. 1. 1. 1. 1. 1. 1. 1. 1.\n",
      " 1. 1. 1. 1. 1. 1. 1. 1. 1. 1. 1. 1. 1. 1. 1. 1. 1. 1. 1. 1. 1. 1. 1. 1.\n",
      " 1. 1. 1. 1. 1. 1. 1. 1. 1. 1. 1. 1. 1. 1. 1. 1. 1. 1. 2. 2. 2. 2. 2. 2.\n",
      " 2. 2. 2. 2. 2. 2. 2. 2. 2. 2. 2. 2. 2. 2. 2. 2. 2. 2. 2. 2. 2. 2. 2. 2.\n",
      " 2. 2. 2. 2. 2. 2. 2. 2. 2. 2. 2. 2. 2. 2. 2. 2. 2. 2. 2. 2. 2. 2. 2. 2.\n",
      " 2. 2. 2. 2. 2. 2. 2. 2. 2. 2. 2. 2. 2. 2. 3. 3. 3. 3. 3. 3. 3. 3. 3. 3.\n",
      " 3. 3. 3. 3. 3. 3. 3. 3. 3. 3. 3. 3. 3. 3. 3. 3. 3. 3. 3. 3. 3. 3. 3. 3.\n",
      " 3. 3. 3. 3. 3. 3. 3. 3. 3. 3. 3. 3. 3. 3. 3. 3. 3. 3. 3. 3. 3. 3. 3. 3.\n",
      " 3. 3. 3. 3. 3. 3. 3.]\n"
     ]
    }
   ],
   "source": [
    "#Question 5: NAIVE BAYES ALGORITHM\n",
    "\n",
    "from sklearn.model_selection import train_test_split\n",
    "df.info()\n",
    "X = df.values[:, 0:6]\n",
    "Y = df.values[:,7]\n",
    "print(X)\n",
    "print(Y)"
   ]
  },
  {
   "cell_type": "code",
   "execution_count": 49,
   "id": "ca14e97f",
   "metadata": {},
   "outputs": [],
   "source": [
    "#IMPORTING TRAIN_TEST_SPLIT FROM sklearn\n",
    "from sklearn.model_selection import train_test_split\n",
    "X_train, X_test, y_train, y_test = train_test_split( X, Y, test_size = 0.3, random_state = 100)"
   ]
  },
  {
   "cell_type": "code",
   "execution_count": 50,
   "id": "9dd9a5d9",
   "metadata": {},
   "outputs": [
    {
     "data": {
      "text/plain": [
       "array([2., 2., 2., 2., 2., 3., 2., 2., 1., 2., 3., 2., 3., 3., 2., 3., 3.,\n",
       "       3., 3., 1., 1., 2., 1., 1., 2., 2., 3., 2., 3., 2., 2., 3., 3., 3.,\n",
       "       3., 2., 1., 3., 3., 2., 3., 2., 3., 3., 2., 1., 2., 1., 1., 3., 1.,\n",
       "       3., 2., 1., 3., 1., 3., 3., 3., 3.])"
      ]
     },
     "execution_count": 50,
     "metadata": {},
     "output_type": "execute_result"
    }
   ],
   "source": [
    "#Importing gaussian library from sklearn\n",
    "from sklearn.naive_bayes import GaussianNB\n",
    "\n",
    "# Build a Gaussian Classifier\n",
    "model = GaussianNB()\n",
    "# training model\n",
    "model.fit(X_train, y_train)\n",
    "\n",
    "y_pred = model.predict(X_test)\n",
    "y_pred"
   ]
  },
  {
   "cell_type": "code",
   "execution_count": 51,
   "id": "bcd8edc7",
   "metadata": {},
   "outputs": [
    {
     "name": "stdout",
     "output_type": "stream",
     "text": [
      "Accuracy is  95.0\n",
      "F1 Score: 0.9519173126614988\n"
     ]
    }
   ],
   "source": [
    "#importing accuracy score, confusion matrix,f1score\n",
    "from sklearn.metrics import (\n",
    "    accuracy_score,\n",
    "    confusion_matrix,\n",
    "    f1_score,)\n",
    "\n",
    "\n",
    "print(\"Accuracy is \", accuracy_score(y_test,y_pred)*100)\n",
    "\n",
    "f1 = f1_score(y_pred, y_test, average=\"weighted\")\n",
    "print(\"F1 Score:\", f1)"
   ]
  },
  {
   "cell_type": "code",
   "execution_count": 52,
   "id": "5fe0f425",
   "metadata": {},
   "outputs": [
    {
     "name": "stdout",
     "output_type": "stream",
     "text": [
      "[[12  1  2]\n",
      " [ 0 21  0]\n",
      " [ 0  0 24]]\n"
     ]
    }
   ],
   "source": [
    "#printing confusion matrix\n",
    "print(confusion_matrix(y_test, y_pred))"
   ]
  },
  {
   "cell_type": "code",
   "execution_count": 53,
   "id": "ee643f47",
   "metadata": {},
   "outputs": [
    {
     "name": "stdout",
     "output_type": "stream",
     "text": [
      "              precision    recall  f1-score   support\n",
      "\n",
      "         1.0       1.00      0.80      0.89        15\n",
      "         2.0       0.95      1.00      0.98        21\n",
      "         3.0       0.92      1.00      0.96        24\n",
      "\n",
      "    accuracy                           0.95        60\n",
      "   macro avg       0.96      0.93      0.94        60\n",
      "weighted avg       0.95      0.95      0.95        60\n",
      "\n"
     ]
    }
   ],
   "source": [
    "from sklearn.metrics import classification_report\n",
    "print(classification_report(y_test, y_pred))"
   ]
  }
 ],
 "metadata": {
  "kernelspec": {
   "display_name": "Python 3 (ipykernel)",
   "language": "python",
   "name": "python3"
  },
  "language_info": {
   "codemirror_mode": {
    "name": "ipython",
    "version": 3
   },
   "file_extension": ".py",
   "mimetype": "text/x-python",
   "name": "python",
   "nbconvert_exporter": "python",
   "pygments_lexer": "ipython3",
   "version": "3.9.13"
  }
 },
 "nbformat": 4,
 "nbformat_minor": 5
}
